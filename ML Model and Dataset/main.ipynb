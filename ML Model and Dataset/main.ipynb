{
 "cells": [
  {
   "cell_type": "code",
   "execution_count": 1,
   "id": "8c0929e4-7eba-4392-8081-b95e7adc5092",
   "metadata": {},
   "outputs": [],
   "source": [
    "import os\n",
    "os.environ['TF_CPP_MIN_LOG_LEVEL'] = '2'\n",
    "\n",
    "import tensorflow as tf\n",
    "import numpy as np\n",
    "\n",
    "from flask import Flask, request, jsonify\n",
    "from tensorflow import keras\n",
    "from PIL import Image"
   ]
  },
  {
   "cell_type": "code",
   "execution_count": 2,
   "id": "ad62d009-ac5a-4910-8a25-20027d4b2db8",
   "metadata": {},
   "outputs": [],
   "source": [
    "model = keras.models.load_model(\"model.h5\")"
   ]
  },
  {
   "cell_type": "code",
   "execution_count": 3,
   "id": "e34a4cbe",
   "metadata": {},
   "outputs": [],
   "source": [
    "def trans_image(pillow_image):\n",
    "    a = np.array(pillow_image.resize((128,128)))\n",
    "    a = a.reshape(1,128,128,3)\n",
    "    return a"
   ]
  },
  {
   "cell_type": "code",
   "execution_count": 4,
   "id": "e26a4df0",
   "metadata": {},
   "outputs": [],
   "source": [
    "def brain(predict):\n",
    "    if predict==0:\n",
    "        return 'Glioma Tumor'\n",
    "    elif predict==1:\n",
    "        return 'Meningioma Tumor'\n",
    "    elif predict==2:\n",
    "        return 'No Tumor or Normal'\n",
    "    else:\n",
    "        return 'Pituitary Tumor'"
   ]
  },
  {
   "cell_type": "code",
   "execution_count": 5,
   "id": "776882ef-b3f6-4218-b2b4-4954cc108646",
   "metadata": {},
   "outputs": [],
   "source": [
    "def predictions(x):\n",
    "    a = model.predict(x)\n",
    "    classi = np.where(a == np.amax(a))[1][0]\n",
    "    return str(a[0][classi]*100), brain(classi)"
   ]
  },
  {
   "cell_type": "code",
   "execution_count": null,
   "id": "9432b185-30ed-4851-bfe2-8dd9a40fa9f2",
   "metadata": {},
   "outputs": [
    {
     "name": "stdout",
     "output_type": "stream",
     "text": [
      " * Serving Flask app \"__main__\" (lazy loading)\n",
      " * Environment: production\n",
      "\u001b[31m   WARNING: This is a development server. Do not use it in a production deployment.\u001b[0m\n",
      "\u001b[2m   Use a production WSGI server instead.\u001b[0m\n",
      " * Debug mode: off\n"
     ]
    },
    {
     "name": "stderr",
     "output_type": "stream",
     "text": [
      " * Running on http://127.0.0.1:5000/ (Press CTRL+C to quit)\n"
     ]
    },
    {
     "name": "stdout",
     "output_type": "stream",
     "text": [
      "1/1 [==============================] - 1s 827ms/step\n"
     ]
    },
    {
     "name": "stderr",
     "output_type": "stream",
     "text": [
      "127.0.0.1 - - [11/Jun/2022 13:41:45] \"POST / HTTP/1.1\" 200 -\n"
     ]
    }
   ],
   "source": [
    "app = Flask(__name__)\n",
    "\n",
    "@app.route(\"/\", methods=[\"GET\", \"POST\"])\n",
    "def index():\n",
    "    if request.method ==\"POST\":\n",
    "        file = request.files.get('file')\n",
    "        if file is None:\n",
    "            return jsonify({\"message\": \"Error, no file\"})\n",
    "        else:\n",
    "            try:\n",
    "                pillow_img = Image.open(file)\n",
    "                tensor = trans_image(pillow_img)\n",
    "                percentage, prediction = predictions(tensor)\n",
    "                data = {\"prediction\": prediction,\n",
    "                       \"percentage\": percentage}\n",
    "                return jsonify(data)\n",
    "            except Exception as e:\n",
    "                return jsonify({\"error\": str(e)})\n",
    "    \n",
    "    return \"OK\"\n",
    "\n",
    "if __name__ == \"__main__\":\n",
    "    app.run()"
   ]
  },
  {
   "cell_type": "code",
   "execution_count": null,
   "id": "29ddd12a",
   "metadata": {},
   "outputs": [],
   "source": []
  }
 ],
 "metadata": {
  "kernelspec": {
   "display_name": "Python 3",
   "language": "python",
   "name": "python3"
  },
  "language_info": {
   "codemirror_mode": {
    "name": "ipython",
    "version": 3
   },
   "file_extension": ".py",
   "mimetype": "text/x-python",
   "name": "python",
   "nbconvert_exporter": "python",
   "pygments_lexer": "ipython3",
   "version": "3.9.12"
  }
 },
 "nbformat": 4,
 "nbformat_minor": 5
}
