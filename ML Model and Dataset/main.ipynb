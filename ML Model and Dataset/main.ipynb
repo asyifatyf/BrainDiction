{
 "cells": [
  {
   "cell_type": "code",
   "execution_count": 1,
   "id": "8c0929e4-7eba-4392-8081-b95e7adc5092",
   "metadata": {},
   "outputs": [],
   "source": [
    "import os\n",
    "os.environ['TF_CPP_MIN_LOG_LEVEL'] = '2'\n",
    "\n",
    "import tensorflow as tf\n",
    "import numpy as np\n",
    "\n",
    "from flask import Flask, request, jsonify\n",
    "from tensorflow import keras\n",
    "from PIL import Image"
   ]
  },
  {
   "cell_type": "code",
   "execution_count": 2,
   "id": "ad62d009-ac5a-4910-8a25-20027d4b2db8",
   "metadata": {},
   "outputs": [],
   "source": [
    "model = keras.models.load_model(\"model.h5\")"
   ]
  },
  {
   "cell_type": "code",
   "execution_count": 3,
   "id": "e34a4cbe",
   "metadata": {},
   "outputs": [],
   "source": [
    "def trans_image(pillow_image):\n",
    "    a = np.array(pillow_image.resize((128,128)))\n",
    "    a = a.reshape(1,128,128,3)\n",
    "    return a"
   ]
  },
  {
   "cell_type": "code",
   "execution_count": 4,
   "id": "3e9845e8",
   "metadata": {},
   "outputs": [],
   "source": [
    "def brain(predict):\n",
    "    if predict==0:\n",
    "        return 'Glioma Tumor'\n",
    "    elif predict==1:\n",
    "        return 'Meningioma Tumor'\n",
    "    elif predict==2:\n",
    "        return 'No Tumor or Normal'\n",
    "    else:\n",
    "        return 'Pituitary Tumor'"
   ]
  },
  {
   "cell_type": "code",
   "execution_count": 5,
   "id": "776882ef-b3f6-4218-b2b4-4954cc108646",
   "metadata": {},
   "outputs": [],
   "source": [
    "def predictions(x):\n",
    "    a = model.predict(x)\n",
    "    classi = np.where(a == np.amax(a))[1][0]\n",
    "    return str(a[0][classi]*100), brain(classi)"
   ]
  },
  {
   "cell_type": "code",
   "execution_count": 6,
   "id": "9432b185-30ed-4851-bfe2-8dd9a40fa9f2",
   "metadata": {},
   "outputs": [
    {
     "ename": "NameError",
     "evalue": "name 'app' is not defined",
     "output_type": "error",
     "traceback": [
      "\u001b[1;31m---------------------------------------------------------------------------\u001b[0m",
      "\u001b[1;31mNameError\u001b[0m                                 Traceback (most recent call last)",
      "Input \u001b[1;32mIn [6]\u001b[0m, in \u001b[0;36m<cell line: 1>\u001b[1;34m()\u001b[0m\n\u001b[1;32m----> 1\u001b[0m \u001b[38;5;129m@app\u001b[39m\u001b[38;5;241m.\u001b[39mroute(\u001b[38;5;124m\"\u001b[39m\u001b[38;5;124m/\u001b[39m\u001b[38;5;124m\"\u001b[39m, methods\u001b[38;5;241m=\u001b[39m[\u001b[38;5;124m\"\u001b[39m\u001b[38;5;124mGET\u001b[39m\u001b[38;5;124m\"\u001b[39m, \u001b[38;5;124m\"\u001b[39m\u001b[38;5;124mPOST\u001b[39m\u001b[38;5;124m\"\u001b[39m])\n\u001b[0;32m      2\u001b[0m \u001b[38;5;28;01mdef\u001b[39;00m \u001b[38;5;21mindex\u001b[39m():\n\u001b[0;32m      3\u001b[0m     \u001b[38;5;28;01mif\u001b[39;00m request\u001b[38;5;241m.\u001b[39mmethod \u001b[38;5;241m==\u001b[39m\u001b[38;5;124m\"\u001b[39m\u001b[38;5;124mPOST\u001b[39m\u001b[38;5;124m\"\u001b[39m:\n\u001b[0;32m      4\u001b[0m         file \u001b[38;5;241m=\u001b[39m request\u001b[38;5;241m.\u001b[39mfiles\u001b[38;5;241m.\u001b[39mget(\u001b[38;5;124m'\u001b[39m\u001b[38;5;124mfile\u001b[39m\u001b[38;5;124m'\u001b[39m)\n",
      "\u001b[1;31mNameError\u001b[0m: name 'app' is not defined"
     ]
    }
   ],
   "source": [
    "@app.route(\"/\", methods=[\"GET\", \"POST\"])\n",
    "def index():\n",
    "    if request.method ==\"POST\":\n",
    "        file = request.files.get('file')\n",
    "        if file is None:\n",
    "            return jsonify({\"message\": \"Error, no file\"})\n",
    "        else:\n",
    "            try:\n",
    "                pillow_img = Image.open(file)\n",
    "                tensor = trans_image(pillow_img)\n",
    "                percentage, prediction = predictions(tensor)\n",
    "                data = {\"prediction\": prediction,\n",
    "                       \"percentage\": percentage}\n",
    "                return jsonify(data)\n",
    "            except Exception as e:\n",
    "                return jsonify({\"error\": str(e)})\n",
    "    \n",
    "    return \"OK\"\n",
    "\n",
    "if __name__ == \"__main__\":\n",
    "    app.run()"
   ]
  },
  {
   "cell_type": "code",
   "execution_count": null,
   "id": "29ddd12a",
   "metadata": {},
   "outputs": [],
   "source": []
  }
 ],
 "metadata": {
  "kernelspec": {
   "display_name": "Python 3",
   "language": "python",
   "name": "python3"
  },
  "language_info": {
   "codemirror_mode": {
    "name": "ipython",
    "version": 3
   },
   "file_extension": ".py",
   "mimetype": "text/x-python",
   "name": "python",
   "nbconvert_exporter": "python",
   "pygments_lexer": "ipython3",
   "version": "3.9.12"
  }
 },
 "nbformat": 4,
 "nbformat_minor": 5
}
